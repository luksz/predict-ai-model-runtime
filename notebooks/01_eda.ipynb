{
 "cells": [
  {
   "cell_type": "markdown",
   "id": "36434a64",
   "metadata": {},
   "source": [
    "# EDA "
   ]
  },
  {
   "cell_type": "markdown",
   "id": "f98bf859",
   "metadata": {},
   "source": [
    "## path and imports "
   ]
  },
  {
   "cell_type": "code",
   "execution_count": 6,
   "id": "b1a7b70d",
   "metadata": {},
   "outputs": [
    {
     "name": "stdout",
     "output_type": "stream",
     "text": [
      "/Users/tanpinyee/Documents/GitHub/predict-ai-model-runtime\n"
     ]
    }
   ],
   "source": [
    "import os, numpy as np, pandas as pd\n",
    "from tqdm import tqdm\n",
    "import matplotlib.pyplot as plt\n",
    "import os\n",
    "os.chdir(\"..\")   # go up one folder\n",
    "print(os.getcwd())  # confirm it's now the project root\n",
    "\n",
    "# Paths to raw npz data\n",
    "TILE_TRAIN = \"data/raw/npz_all/npz/tile/xla/train\"\n",
    "TILE_VALID = \"data/raw/npz_all/npz/tile/xla/valid\"\n",
    "TILE_TEST  = \"data/raw/npz_all/npz/tile/xla/test\"\n",
    "\n",
    "LAYOUT_XLA_RANDOM_TRAIN   = \"data/raw/npz_all/npz/layout/xla/random/train\"\n",
    "LAYOUT_XLA_DEFAULT_TRAIN  = \"data/raw/npz_all/npz/layout/xla/default/train\"\n",
    "LAYOUT_NLP_RANDOM_TRAIN   = \"data/raw/npz_all/npz/layout/nlp/random/train\"\n",
    "LAYOUT_NLP_DEFAULT_TRAIN  = \"data/raw/npz_all/npz/layout/nlp/default/train\"\n",
    "\n",
    "PB_LAYOUT_ROOT = \"data/raw/pb/pb/layout\"\n"
   ]
  },
  {
   "cell_type": "markdown",
   "id": "debf83be",
   "metadata": {},
   "source": [
    "### sanity check \n"
   ]
  },
  {
   "cell_type": "code",
   "execution_count": 7,
   "id": "7a898bf5",
   "metadata": {},
   "outputs": [
    {
     "name": "stdout",
     "output_type": "stream",
     "text": [
      "data/raw/npz_all/npz/tile/xla/train -> OK ('files:', 5709)\n",
      "sample: ['transformer.4x4.bf16_-1964d3f4fc587b76.npz', 'mnasnet_a1_batch_128_-2c00b4aa48eb6515.npz', 'resnet_v2_200_batch_64_-56670efcbaa402de.npz']\n",
      "data/raw/npz_all/npz/layout/xla/random/train -> OK ('files:', 69)\n",
      "sample: ['brax_es.npz', 'transformer.4x4.fp32.performance.npz', 'resnet50.8x8.fp32.npz']\n"
     ]
    }
   ],
   "source": [
    "for p in [TILE_TRAIN, LAYOUT_XLA_RANDOM_TRAIN]:\n",
    "    ok = os.path.isdir(p)\n",
    "    print(f\"{p} ->\", \"OK\" if ok else \"MISSING\", \n",
    "          (\"files:\", len(os.listdir(p))) if ok else \"\")\n",
    "    if ok: print(\"sample:\", os.listdir(p)[:3])\n"
   ]
  },
  {
   "cell_type": "code",
   "execution_count": 8,
   "id": "3cf30ba1",
   "metadata": {},
   "outputs": [
    {
     "name": "stdout",
     "output_type": "stream",
     "text": [
      "['node_feat', 'node_opcode', 'edge_index', 'config_feat', 'config_runtime', 'config_runtime_normalizers']\n",
      "node_feat (34, 140) float32\n",
      "node_opcode (34,) uint8\n",
      "edge_index (33, 2) int64\n",
      "config_feat (437, 24) float32\n",
      "config_runtime (437,) int64\n",
      "config_runtime_normalizers (437,) int64\n"
     ]
    }
   ],
   "source": [
    "sample_tile = np.load(os.path.join(TILE_TRAIN, os.listdir(TILE_TRAIN)[0]), allow_pickle=True)\n",
    "print(sample_tile.files)\n",
    "for k in sample_tile.files:\n",
    "    print(k, sample_tile[k].shape, sample_tile[k].dtype)\n"
   ]
  },
  {
   "cell_type": "code",
   "execution_count": 9,
   "id": "09411faa",
   "metadata": {},
   "outputs": [
    {
     "name": "stderr",
     "output_type": "stream",
     "text": [
      "100%|██████████| 300/300 [00:00<00:00, 1054.14it/s]\n"
     ]
    },
    {
     "data": {
      "text/html": [
       "<div>\n",
       "<style scoped>\n",
       "    .dataframe tbody tr th:only-of-type {\n",
       "        vertical-align: middle;\n",
       "    }\n",
       "\n",
       "    .dataframe tbody tr th {\n",
       "        vertical-align: top;\n",
       "    }\n",
       "\n",
       "    .dataframe thead th {\n",
       "        text-align: right;\n",
       "    }\n",
       "</style>\n",
       "<table border=\"1\" class=\"dataframe\">\n",
       "  <thead>\n",
       "    <tr style=\"text-align: right;\">\n",
       "      <th></th>\n",
       "      <th>file</th>\n",
       "      <th>num_nodes</th>\n",
       "      <th>num_edges</th>\n",
       "      <th>num_configs</th>\n",
       "      <th>runtime_min_ns</th>\n",
       "      <th>ratio_min</th>\n",
       "    </tr>\n",
       "  </thead>\n",
       "  <tbody>\n",
       "    <tr>\n",
       "      <th>0</th>\n",
       "      <td>transformer.4x4.bf16_-1964d3f4fc587b76.npz</td>\n",
       "      <td>34</td>\n",
       "      <td>33</td>\n",
       "      <td>437</td>\n",
       "      <td>183575.0</td>\n",
       "      <td>0.992716</td>\n",
       "    </tr>\n",
       "    <tr>\n",
       "      <th>1</th>\n",
       "      <td>mnasnet_a1_batch_128_-2c00b4aa48eb6515.npz</td>\n",
       "      <td>38</td>\n",
       "      <td>37</td>\n",
       "      <td>403</td>\n",
       "      <td>132762.0</td>\n",
       "      <td>0.982055</td>\n",
       "    </tr>\n",
       "    <tr>\n",
       "      <th>2</th>\n",
       "      <td>resnet_v2_200_batch_64_-56670efcbaa402de.npz</td>\n",
       "      <td>2</td>\n",
       "      <td>1</td>\n",
       "      <td>414</td>\n",
       "      <td>49760.0</td>\n",
       "      <td>0.935444</td>\n",
       "    </tr>\n",
       "    <tr>\n",
       "      <th>3</th>\n",
       "      <td>retinanet.4x4.fp32_5045ab5a5565be70.npz</td>\n",
       "      <td>14</td>\n",
       "      <td>13</td>\n",
       "      <td>166</td>\n",
       "      <td>64071.0</td>\n",
       "      <td>0.958186</td>\n",
       "    </tr>\n",
       "    <tr>\n",
       "      <th>4</th>\n",
       "      <td>efficientnet_b7_eval_batch_1_-5ac1b66665d93955...</td>\n",
       "      <td>59</td>\n",
       "      <td>61</td>\n",
       "      <td>728</td>\n",
       "      <td>205101.0</td>\n",
       "      <td>0.988515</td>\n",
       "    </tr>\n",
       "  </tbody>\n",
       "</table>\n",
       "</div>"
      ],
      "text/plain": [
       "                                                file  num_nodes  num_edges  \\\n",
       "0         transformer.4x4.bf16_-1964d3f4fc587b76.npz         34         33   \n",
       "1         mnasnet_a1_batch_128_-2c00b4aa48eb6515.npz         38         37   \n",
       "2       resnet_v2_200_batch_64_-56670efcbaa402de.npz          2          1   \n",
       "3            retinanet.4x4.fp32_5045ab5a5565be70.npz         14         13   \n",
       "4  efficientnet_b7_eval_batch_1_-5ac1b66665d93955...         59         61   \n",
       "\n",
       "   num_configs  runtime_min_ns  ratio_min  \n",
       "0          437        183575.0   0.992716  \n",
       "1          403        132762.0   0.982055  \n",
       "2          414         49760.0   0.935444  \n",
       "3          166         64071.0   0.958186  \n",
       "4          728        205101.0   0.988515  "
      ]
     },
     "execution_count": 9,
     "metadata": {},
     "output_type": "execute_result"
    }
   ],
   "source": [
    "rows = []\n",
    "files = os.listdir(TILE_TRAIN)\n",
    "for f in tqdm(files[:300]):  # start small; increase later\n",
    "    d = np.load(os.path.join(TILE_TRAIN, f), allow_pickle=True)\n",
    "\n",
    "    n_nodes   = d[\"node_feat\"].shape[0]\n",
    "    n_edges   = d[\"edge_index\"].shape[0]\n",
    "    n_cfgs    = d[\"config_feat\"].shape[0]\n",
    "    rt        = d[\"config_runtime\"].astype(np.float64)\n",
    "    rnorm     = d[\"config_runtime_normalizers\"].astype(np.float64)\n",
    "    ratio     = rt / rnorm\n",
    "    best_idx  = int(np.argmin(ratio))\n",
    "    best_ratio= float(ratio[best_idx])\n",
    "    best_rt   = float(rt[best_idx])\n",
    "\n",
    "    rows.append({\n",
    "        \"file\": f,\n",
    "        \"num_nodes\": n_nodes,\n",
    "        \"num_edges\": n_edges,\n",
    "        \"num_configs\": n_cfgs,\n",
    "        \"runtime_min_ns\": best_rt,\n",
    "        \"ratio_min\": best_ratio,\n",
    "    })\n",
    "\n",
    "tile_df = pd.DataFrame(rows)\n",
    "tile_df.head()\n"
   ]
  },
  {
   "cell_type": "code",
   "execution_count": 10,
   "id": "19fe2cc9",
   "metadata": {},
   "outputs": [
    {
     "data": {
      "image/png": "[encoded data removed]",
      "text/plain": [
       "<Figure size 640x480 with 1 Axes>"
      ]
     },
     "metadata": {},
     "output_type": "display_data"
    },
    {
     "data": {
      "image/png": "[encoded data removed]",
      "text/plain": [
       "<Figure size 640x480 with 1 Axes>"
      ]
     },
     "metadata": {},
     "output_type": "display_data"
    }
   ],
   "source": [
    "tile_df[\"runtime_min_ns\"].hist(bins=60); plt.title(\"TILE: best runtime (ns)\"); plt.show()\n",
    "plt.scatter(tile_df[\"num_nodes\"], tile_df[\"runtime_min_ns\"], alpha=0.4)\n",
    "plt.xlabel(\"nodes\"); plt.ylabel(\"best runtime (ns)\"); plt.title(\"nodes vs runtime\"); plt.show()\n"
   ]
  },
  {
   "cell_type": "code",
   "execution_count": 11,
   "id": "c9dd7224",
   "metadata": {},
   "outputs": [
    {
     "name": "stdout",
     "output_type": "stream",
     "text": [
      "saved -> data/processed/tile_train_summary.csv\n"
     ]
    }
   ],
   "source": [
    "os.makedirs(\"data/processed\", exist_ok=True)\n",
    "tile_df.to_csv(\"data/processed/tile_train_summary.csv\", index=False)\n",
    "print(\"saved -> data/processed/tile_train_summary.csv\")\n"
   ]
  },
  {
   "cell_type": "code",
   "execution_count": 12,
   "id": "d19c394b",
   "metadata": {},
   "outputs": [
    {
     "name": "stdout",
     "output_type": "stream",
     "text": [
      "['edge_index', 'node_feat', 'node_opcode', 'node_config_feat', 'node_config_ids', 'node_splits', 'config_runtime']\n",
      "edge_index (7209, 2) int64\n",
      "node_feat (4185, 140) float32\n",
      "node_opcode (4185,) uint8\n",
      "node_config_feat (100040, 81, 18) float32\n",
      "node_config_ids (81,) int64\n",
      "node_splits (1, 2) int64\n",
      "config_runtime (100040,) int64\n"
     ]
    }
   ],
   "source": [
    "sample_layout = np.load(os.path.join(LAYOUT_XLA_RANDOM_TRAIN, os.listdir(LAYOUT_XLA_RANDOM_TRAIN)[0]), allow_pickle=True)\n",
    "print(sample_layout.files)\n",
    "for k in sample_layout.files:\n",
    "    print(k, sample_layout[k].shape, sample_layout[k].dtype)\n"
   ]
  },
  {
   "cell_type": "code",
   "execution_count": 13,
   "id": "6016ba64",
   "metadata": {},
   "outputs": [
    {
     "name": "stderr",
     "output_type": "stream",
     "text": [
      "100%|██████████| 69/69 [00:13<00:00,  4.95it/s]\n"
     ]
    },
    {
     "data": {
      "text/html": [
       "<div>\n",
       "<style scoped>\n",
       "    .dataframe tbody tr th:only-of-type {\n",
       "        vertical-align: middle;\n",
       "    }\n",
       "\n",
       "    .dataframe tbody tr th {\n",
       "        vertical-align: top;\n",
       "    }\n",
       "\n",
       "    .dataframe thead th {\n",
       "        text-align: right;\n",
       "    }\n",
       "</style>\n",
       "<table border=\"1\" class=\"dataframe\">\n",
       "  <thead>\n",
       "    <tr style=\"text-align: right;\">\n",
       "      <th></th>\n",
       "      <th>file</th>\n",
       "      <th>num_nodes</th>\n",
       "      <th>num_edges</th>\n",
       "      <th>num_configurable_nodes</th>\n",
       "      <th>num_runs</th>\n",
       "      <th>runtime_min_ns</th>\n",
       "      <th>runtime_mean_ns</th>\n",
       "      <th>runtime_max_ns</th>\n",
       "      <th>runtime_spread_ns</th>\n",
       "    </tr>\n",
       "  </thead>\n",
       "  <tbody>\n",
       "    <tr>\n",
       "      <th>0</th>\n",
       "      <td>brax_es.npz</td>\n",
       "      <td>4185</td>\n",
       "      <td>7209</td>\n",
       "      <td>81</td>\n",
       "      <td>100040</td>\n",
       "      <td>4729001.0</td>\n",
       "      <td>1.004016e+07</td>\n",
       "      <td>19567302.0</td>\n",
       "      <td>14838301.0</td>\n",
       "    </tr>\n",
       "    <tr>\n",
       "      <th>1</th>\n",
       "      <td>transformer.4x4.fp32.performance.npz</td>\n",
       "      <td>26234</td>\n",
       "      <td>48094</td>\n",
       "      <td>1777</td>\n",
       "      <td>15704</td>\n",
       "      <td>53452292.0</td>\n",
       "      <td>7.415945e+07</td>\n",
       "      <td>98656219.0</td>\n",
       "      <td>45203927.0</td>\n",
       "    </tr>\n",
       "    <tr>\n",
       "      <th>2</th>\n",
       "      <td>resnet50.8x8.fp32.npz</td>\n",
       "      <td>5345</td>\n",
       "      <td>8775</td>\n",
       "      <td>166</td>\n",
       "      <td>10664</td>\n",
       "      <td>114509310.0</td>\n",
       "      <td>1.906543e+08</td>\n",
       "      <td>268757330.0</td>\n",
       "      <td>154248020.0</td>\n",
       "    </tr>\n",
       "    <tr>\n",
       "      <th>3</th>\n",
       "      <td>bert_pretraining.8x16.fp16.npz</td>\n",
       "      <td>21335</td>\n",
       "      <td>37236</td>\n",
       "      <td>1142</td>\n",
       "      <td>19128</td>\n",
       "      <td>46152420.0</td>\n",
       "      <td>5.607547e+07</td>\n",
       "      <td>67327314.0</td>\n",
       "      <td>21174894.0</td>\n",
       "    </tr>\n",
       "    <tr>\n",
       "      <th>4</th>\n",
       "      <td>transformer.2x2.fp32.npz</td>\n",
       "      <td>7324</td>\n",
       "      <td>12087</td>\n",
       "      <td>414</td>\n",
       "      <td>22992</td>\n",
       "      <td>50591575.0</td>\n",
       "      <td>8.265765e+07</td>\n",
       "      <td>114871545.0</td>\n",
       "      <td>64279970.0</td>\n",
       "    </tr>\n",
       "  </tbody>\n",
       "</table>\n",
       "</div>"
      ],
      "text/plain": [
       "                                   file  num_nodes  num_edges  \\\n",
       "0                           brax_es.npz       4185       7209   \n",
       "1  transformer.4x4.fp32.performance.npz      26234      48094   \n",
       "2                 resnet50.8x8.fp32.npz       5345       8775   \n",
       "3        bert_pretraining.8x16.fp16.npz      21335      37236   \n",
       "4              transformer.2x2.fp32.npz       7324      12087   \n",
       "\n",
       "   num_configurable_nodes  num_runs  runtime_min_ns  runtime_mean_ns  \\\n",
       "0                      81    100040       4729001.0     1.004016e+07   \n",
       "1                    1777     15704      53452292.0     7.415945e+07   \n",
       "2                     166     10664     114509310.0     1.906543e+08   \n",
       "3                    1142     19128      46152420.0     5.607547e+07   \n",
       "4                     414     22992      50591575.0     8.265765e+07   \n",
       "\n",
       "   runtime_max_ns  runtime_spread_ns  \n",
       "0      19567302.0         14838301.0  \n",
       "1      98656219.0         45203927.0  \n",
       "2     268757330.0        154248020.0  \n",
       "3      67327314.0         21174894.0  \n",
       "4     114871545.0         64279970.0  "
      ]
     },
     "execution_count": 13,
     "metadata": {},
     "output_type": "execute_result"
    }
   ],
   "source": [
    "rows = []\n",
    "files = os.listdir(LAYOUT_XLA_RANDOM_TRAIN)\n",
    "for f in tqdm(files[:300]):\n",
    "    d = np.load(os.path.join(LAYOUT_XLA_RANDOM_TRAIN, f), allow_pickle=True)\n",
    "\n",
    "    n_nodes = d[\"node_feat\"].shape[0]\n",
    "    n_edges = d[\"edge_index\"].shape[0]\n",
    "    nc      = d[\"node_config_ids\"].shape[0]\n",
    "    cfgs    = d[\"node_config_feat\"].shape[0]  # number of runs/configs\n",
    "    rt      = d[\"config_runtime\"].astype(np.float64)\n",
    "\n",
    "    rows.append({\n",
    "        \"file\": f,\n",
    "        \"num_nodes\": n_nodes,\n",
    "        \"num_edges\": n_edges,\n",
    "        \"num_configurable_nodes\": nc,\n",
    "        \"num_runs\": cfgs,\n",
    "        \"runtime_min_ns\": float(rt.min()),\n",
    "        \"runtime_mean_ns\": float(rt.mean()),\n",
    "        \"runtime_max_ns\": float(rt.max()),\n",
    "        \"runtime_spread_ns\": float(rt.max() - rt.min()),\n",
    "    })\n",
    "\n",
    "layout_df = pd.DataFrame(rows)\n",
    "layout_df.head()\n"
   ]
  },
  {
   "cell_type": "code",
   "execution_count": 14,
   "id": "0712b754",
   "metadata": {},
   "outputs": [
    {
     "data": {
      "image/png": "[encoded data removed]",
      "text/plain": [
       "<Figure size 640x480 with 1 Axes>"
      ]
     },
     "metadata": {},
     "output_type": "display_data"
    },
    {
     "data": {
      "image/png": "[encoded data removed]",
      "text/plain": [
       "<Figure size 640x480 with 1 Axes>"
      ]
     },
     "metadata": {},
     "output_type": "display_data"
    }
   ],
   "source": [
    "layout_df[\"runtime_min_ns\"].hist(bins=60); plt.title(\"LAYOUT: min runtime (ns)\"); plt.show()\n",
    "plt.scatter(layout_df[\"num_nodes\"], layout_df[\"runtime_min_ns\"], alpha=0.4)\n",
    "plt.xlabel(\"nodes\"); plt.ylabel(\"min runtime (ns)\"); plt.title(\"nodes vs runtime\"); plt.show()\n"
   ]
  },
  {
   "cell_type": "code",
   "execution_count": 15,
   "id": "50752dad",
   "metadata": {},
   "outputs": [
    {
     "name": "stdout",
     "output_type": "stream",
     "text": [
      "saved -> data/processed/layout_xla_random_train_summary.csv\n"
     ]
    }
   ],
   "source": [
    "layout_df.to_csv(\"data/processed/layout_xla_random_train_summary.csv\", index=False)\n",
    "print(\"saved -> data/processed/layout_xla_random_train_summary.csv\")\n"
   ]
  }
 ],
 "metadata": {
  "kernelspec": {
   "display_name": ".venv (3.9.4)",
   "language": "python",
   "name": "python3"
  },
  "language_info": {
   "codemirror_mode": {
    "name": "ipython",
    "version": 3
   },
   "file_extension": ".py",
   "mimetype": "text/x-python",
   "name": "python",
   "nbconvert_exporter": "python",
   "pygments_lexer": "ipython3",
   "version": "3.9.4"
  }
 },
 "nbformat": 4,
 "nbformat_minor": 5
}
