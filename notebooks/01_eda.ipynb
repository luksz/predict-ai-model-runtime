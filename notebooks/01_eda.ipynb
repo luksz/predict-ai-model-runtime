{
 "cells": [
  {
   "cell_type": "markdown",
   "id": "36434a64",
   "metadata": {},
   "source": [
    "# EDA "
   ]
  },
  {
   "cell_type": "code",
   "execution_count": null,
   "id": "b1a7b70d",
   "metadata": {},
   "outputs": [],
   "source": [
    "import os, numpy as np, pandas as pd\n",
    "from tqdm import tqdm\n",
    "import matplotlib.pyplot as plt\n",
    "\n",
    "# Paths to raw npz data\n",
    "TILE_TRAIN = \"data/raw/npz_all/npz/tile/xla/train\"\n",
    "TILE_VALID = \"data/raw/npz_all/npz/tile/xla/valid\"\n",
    "TILE_TEST  = \"data/raw/npz_all/npz/tile/xla/test\"\n",
    "\n",
    "LAYOUT_XLA_RANDOM_TRAIN   = \"data/raw/npz_all/npz/layout/xla/random/train\"\n",
    "LAYOUT_XLA_DEFAULT_TRAIN  = \"data/raw/npz_all/npz/layout/xla/default/train\"\n",
    "LAYOUT_NLP_RANDOM_TRAIN   = \"data/raw/npz_all/npz/layout/nlp/random/train\"\n",
    "LAYOUT_NLP_DEFAULT_TRAIN  = \"data/raw/npz_all/npz/layout/nlp/default/train\"\n",
    "\n",
    "PB_LAYOUT_ROOT = \"data/raw/pb/pb/layout\"\n"
   ]
  }
 ],
 "metadata": {
  "kernelspec": {
   "display_name": ".venv (3.9.4)",
   "language": "python",
   "name": "python3"
  },
  "language_info": {
   "codemirror_mode": {
    "name": "ipython",
    "version": 3
   },
   "file_extension": ".py",
   "mimetype": "text/x-python",
   "name": "python",
   "nbconvert_exporter": "python",
   "pygments_lexer": "ipython3",
   "version": "3.9.4"
  }
 },
 "nbformat": 4,
 "nbformat_minor": 5
}
