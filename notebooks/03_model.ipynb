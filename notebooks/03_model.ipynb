{
 "cells": [
  {
   "cell_type": "markdown",
   "id": "2cc6eba9",
   "metadata": {},
   "source": [
    "# Model \n"
   ]
  },
  {
   "cell_type": "code",
   "execution_count": 19,
   "id": "5d9fce50",
   "metadata": {},
   "outputs": [
    {
     "name": "stdout",
     "output_type": "stream",
     "text": [
      "/\n"
     ]
    }
   ],
   "source": [
    "import numpy as np\n",
    "import pandas as pd\n",
    "import os\n",
    "from tqdm import tqdm\n",
    "import matplotlib.pyplot as plt\n",
    "import os\n",
    "os.chdir(\"..\")   # go up one folder\n",
    "print(os.getcwd())  # confirm it's now the project root\n",
    "\n",
    "# Paths to raw npz data\n",
    "TILE_TRAIN = \"data/raw/npz_all/npz/tile/xla/train\"\n",
    "TILE_VALID = \"data/raw/npz_all/npz/tile/xla/valid\"\n",
    "TILE_TEST  = \"data/raw/npz_all/npz/tile/xla/test\"\n",
    "\n",
    "LAYOUT_XLA_RANDOM_TRAIN   = \"data/raw/npz_all/npz/layout/xla/random/train\"\n",
    "LAYOUT_XLA_DEFAULT_TRAIN  = \"data/raw/npz_all/npz/layout/xla/default/train\"\n",
    "LAYOUT_NLP_RANDOM_TRAIN   = \"data/raw/npz_all/npz/layout/nlp/random/train\"\n",
    "LAYOUT_NLP_DEFAULT_TRAIN  = \"data/raw/npz_all/npz/layout/nlp/default/train\"\n",
    "\n",
    "PB_LAYOUT_ROOT = \"data/raw/pb/pb/layout\"\n"
   ]
  }
 ],
 "metadata": {
  "kernelspec": {
   "display_name": ".venv (3.9.4)",
   "language": "python",
   "name": "python3"
  },
  "language_info": {
   "codemirror_mode": {
    "name": "ipython",
    "version": 3
   },
   "file_extension": ".py",
   "mimetype": "text/x-python",
   "name": "python",
   "nbconvert_exporter": "python",
   "pygments_lexer": "ipython3",
   "version": "3.9.4"
  }
 },
 "nbformat": 4,
 "nbformat_minor": 5
}
